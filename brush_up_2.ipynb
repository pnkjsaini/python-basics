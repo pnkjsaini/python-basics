{
  "nbformat": 4,
  "nbformat_minor": 0,
  "metadata": {
    "colab": {
      "name": "brush_up-2.ipynb",
      "provenance": [],
      "collapsed_sections": []
    },
    "kernelspec": {
      "name": "python3",
      "display_name": "Python 3"
    }
  },
  "cells": [
    {
      "cell_type": "markdown",
      "metadata": {
        "id": "uWmos-kAu_C_",
        "colab_type": "text"
      },
      "source": [
        "### Control Structure \n",
        "Genrality :\n",
        "keyword condition :\n",
        "    statements \n",
        "\n",
        "keywords \n",
        "if , if ... elif , if .. else "
      ]
    },
    {
      "cell_type": "code",
      "metadata": {
        "id": "E2vFfWGUuq7K",
        "colab_type": "code",
        "colab": {}
      },
      "source": [
        "lst = [1,2,3,4]\n",
        "x=0\n",
        "while x<int(len(lst)):\n",
        "  if lst[x] == 5:\n",
        "    print(\"list   have item 5\") \n",
        "  x=x+1"
      ],
      "execution_count": 0,
      "outputs": []
    },
    {
      "cell_type": "code",
      "metadata": {
        "id": "xYfOCNJFLyyH",
        "colab_type": "code",
        "colab": {
          "base_uri": "https://localhost:8080/",
          "height": 225
        },
        "outputId": "a7167ebb-258d-4aa0-c53b-d30b5615c0b8"
      },
      "source": [
        "#recursion\n",
        "num = int(input(\"write a number for factorial :\")) \n",
        "x=0\n",
        "fact=1\n",
        "while x<num:\n",
        "  print(\"x:\",x)\n",
        "  fact = fact*(x+1)\n",
        "  print(\"fact:\",fact)\n",
        "  x=x+1\n",
        "print(fact)"
      ],
      "execution_count": 65,
      "outputs": [
        {
          "output_type": "stream",
          "text": [
            "write a number for factorial :5\n",
            "x: 0\n",
            "fact: 1\n",
            "x: 1\n",
            "fact: 2\n",
            "x: 2\n",
            "fact: 6\n",
            "x: 3\n",
            "fact: 24\n",
            "x: 4\n",
            "fact: 120\n",
            "120\n"
          ],
          "name": "stdout"
        }
      ]
    },
    {
      "cell_type": "markdown",
      "metadata": {
        "id": "FGBHum2fwZuL",
        "colab_type": "text"
      },
      "source": [
        "#### Control statements on  dirctories \n",
        "- how to apply above block on dir "
      ]
    },
    {
      "cell_type": "code",
      "metadata": {
        "id": "YlG7PvX2wjEO",
        "colab_type": "code",
        "colab": {
          "base_uri": "https://localhost:8080/",
          "height": 278
        },
        "outputId": "35133b87-9015-45df-b5c9-c2d586dd77a1"
      },
      "source": [
        "students ={\"Pankaj Bansal\" : \"Electrical Engineer\", \"Mukul Kashyap\":\"chemical Engineer\",\"Pankaj saini\":\"CHE\",\"Shivalik\":\"CHE\",\"MOHIT\":\"CHE\"}\n",
        "\n",
        "for key,value in students.items():\n",
        "  print(\"Name: %s; Branch: %s\"%(key,value))\n",
        "\n",
        "#just access the key\n",
        "for key in students.keys():\n",
        "  print(key)\n",
        "\n",
        "# for value\n",
        "for v in students.values():\n",
        "  print(v)"
      ],
      "execution_count": 47,
      "outputs": [
        {
          "output_type": "stream",
          "text": [
            "Name: Pankaj Bansal; Branch: Electrical Engineer\n",
            "Name: Mukul Kashyap; Branch: chemical Engineer\n",
            "Name: Pankaj saini; Branch: CHE\n",
            "Name: Shivalik; Branch: CHE\n",
            "Name: MOHIT; Branch: CHE\n",
            "Pankaj Bansal\n",
            "Mukul Kashyap\n",
            "Pankaj saini\n",
            "Shivalik\n",
            "MOHIT\n",
            "Electrical Engineer\n",
            "chemical Engineer\n",
            "CHE\n",
            "CHE\n",
            "CHE\n"
          ],
          "name": "stdout"
        }
      ]
    },
    {
      "cell_type": "markdown",
      "metadata": {
        "id": "B3DpebAjwp4y",
        "colab_type": "text"
      },
      "source": [
        "### Functions\n",
        "- block of code that can be used\n",
        "- keyword def \n",
        "- repeated use code block must be in functions\n",
        "- appreciate yourself if you come to this far \n",
        "genral way :\n",
        "def tag_name(parameters | arguments ):\n",
        "  code ...\n",
        "  return something "
      ]
    },
    {
      "cell_type": "code",
      "metadata": {
        "id": "FAcjkCenw8Bm",
        "colab_type": "code",
        "colab": {
          "base_uri": "https://localhost:8080/",
          "height": 34
        },
        "outputId": "d8806615-55b7-409d-e849-7ffa55045317"
      },
      "source": [
        "pi=3.14\n",
        "def area_cone(r,h):\n",
        "  area = pi*r*(r+h)\n",
        "  return area\n",
        "area =area_cone(2,3)\n",
        "print(\"area of cone is :\",area)"
      ],
      "execution_count": 42,
      "outputs": [
        {
          "output_type": "stream",
          "text": [
            "area of cone is : 31.400000000000002\n"
          ],
          "name": "stdout"
        }
      ]
    },
    {
      "cell_type": "code",
      "metadata": {
        "id": "ueK0RI3_xvKV",
        "colab_type": "code",
        "colab": {
          "base_uri": "https://localhost:8080/",
          "height": 34
        },
        "outputId": "06b03d1d-fa50-4ba0-c422-92a31a5cb1a5"
      },
      "source": [
        "#simple recursion\n",
        "\n",
        "def factorial(x):\n",
        "  if x==1:\n",
        "    fact=1 \n",
        "    return 1\n",
        "  if x==0 : \n",
        "    fact = 1\n",
        "    return 1\n",
        "  else :\n",
        "   fact = x*factorial(x-1)\n",
        "  return fact \n",
        "\n",
        "print(factorial(10))\n"
      ],
      "execution_count": 17,
      "outputs": [
        {
          "output_type": "stream",
          "text": [
            "3628800\n"
          ],
          "name": "stdout"
        }
      ]
    },
    {
      "cell_type": "code",
      "metadata": {
        "id": "W84fqyI776gI",
        "colab_type": "code",
        "colab": {
          "base_uri": "https://localhost:8080/",
          "height": 52
        },
        "outputId": "1dcc22dc-f446-49d1-feda-8b29c5502d3a"
      },
      "source": [
        "def fun_value(l=3,v=4):\n",
        "  sum = l+v\n",
        "  return sum\n",
        "\n",
        "# if user does not input something function still do something \n",
        "#know as default function\n",
        "\n",
        "print(fun_value())\n",
        "print(\"with some value :\" , fun_value(6,7))"
      ],
      "execution_count": 23,
      "outputs": [
        {
          "output_type": "stream",
          "text": [
            "7\n",
            "with some value : 13\n"
          ],
          "name": "stdout"
        }
      ]
    },
    {
      "cell_type": "code",
      "metadata": {
        "id": "ZN49RYml-R5n",
        "colab_type": "code",
        "colab": {}
      },
      "source": [
        "def dir_fun(lst=[],*vargs):\n",
        "  print(lst)\n",
        "  for i in vargs :\n",
        "    print(vargs)\n",
        "#*vargs is a tuple \n"
      ],
      "execution_count": 0,
      "outputs": []
    },
    {
      "cell_type": "code",
      "metadata": {
        "id": "ZDI6i9sx-0xz",
        "colab_type": "code",
        "colab": {
          "base_uri": "https://localhost:8080/",
          "height": 34
        },
        "outputId": "57a27426-0492-43a2-e41d-7683ca7903e4"
      },
      "source": [
        "def wishing(name=\"\"):\n",
        "  print(\"Have a good day \"+ name +\"!\")\n",
        "\n",
        "wishing(\"Pankaj\")"
      ],
      "execution_count": 32,
      "outputs": [
        {
          "output_type": "stream",
          "text": [
            "Have a good day Pankaj!\n"
          ],
          "name": "stdout"
        }
      ]
    },
    {
      "cell_type": "code",
      "metadata": {
        "id": "VwTXrgW4FtAo",
        "colab_type": "code",
        "colab": {
          "base_uri": "https://localhost:8080/",
          "height": 34
        },
        "outputId": "41e4e22b-0036-435c-ca6c-703aec0d3eda"
      },
      "source": [
        "#anonymous functions\n",
        "#useful for short operations \n",
        "#tag = lambda [args1,args2,args3]:expression args1+args2\n",
        "sum = lambda arg_1 ,arg_2: arg_1+arg_2\n",
        "\n",
        "print(sum(10,2))"
      ],
      "execution_count": 40,
      "outputs": [
        {
          "output_type": "stream",
          "text": [
            "12\n"
          ],
          "name": "stdout"
        }
      ]
    },
    {
      "cell_type": "code",
      "metadata": {
        "id": "GqVt1XgzE9qT",
        "colab_type": "code",
        "colab": {
          "base_uri": "https://localhost:8080/",
          "height": 141
        },
        "outputId": "186e1d33-91a5-4c3d-ebea-cdc36136490b"
      },
      "source": [
        "def fun_dir(x={},y={}):\n",
        "  print(x)\n",
        "  print(y)\n",
        "\n",
        "\n",
        "fun_dir(students)\n",
        "\n",
        "\n",
        "#using **kwargs\n",
        "def put(x=0,y=0,**name):\n",
        "  print(name[\"sname\"])\n",
        "  print(name[\"fname\"] + name[\"lname\"])\n",
        "  print(x)\n",
        "  print(y)\n",
        "\n",
        "\n",
        "put(2,fname=\"pankaj\",lname=\"saini\",sname=\"hello\")"
      ],
      "execution_count": 57,
      "outputs": [
        {
          "output_type": "stream",
          "text": [
            "{'Pankaj Bansal': 'Electrical Engineer', 'Mukul Kashyap': 'chemical Engineer', 'Pankaj saini': 'CHE', 'Shivalik': 'CHE', 'MOHIT': 'CHE'}\n",
            "{}\n",
            "hello\n",
            "pankajsaini\n",
            "2\n",
            "0\n"
          ],
          "name": "stdout"
        }
      ]
    }
  ]
}