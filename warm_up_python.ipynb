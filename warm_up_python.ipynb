{
 "cells": [
  {
   "cell_type": "markdown",
   "metadata": {
    "colab_type": "text",
    "id": "SIi1QXpCH0jd"
   },
   "source": [
    "<h3> Python : Language of computer geeks & Hackers </h3>\n",
    "<p>Everything start at something </p>"
   ]
  },
  {
   "cell_type": "code",
   "execution_count": 2,
   "metadata": {
    "colab": {
     "base_uri": "https://localhost:8080/",
     "height": 34
    },
    "colab_type": "code",
    "id": "-Mq64nVYHyxh",
    "outputId": "5226089a-4245-437e-c26b-92d6a5e9a5c0"
   },
   "outputs": [
    {
     "name": "stdout",
     "output_type": "stream",
     "text": [
      "Hello world\n",
      "programming custom\n"
     ]
    }
   ],
   "source": [
    "print(\"Hello world\")\n",
    "print(\"programming custom\")"
   ]
  },
  {
   "cell_type": "markdown",
   "metadata": {
    "colab_type": "text",
    "id": "hCCNQ6e22Tpo"
   },
   "source": [
    "<h4>Three basic vaiable type \n",
    "fundamentally </h4>\n",
    "<p>An integer : On integer mathematical operatin can be performed </p>\n",
    "<p>A float : Mathematical operation can be performed </p>\n",
    "<p>a string : lack of mathematical operation (used for human language element)</p>\n"
   ]
  },
  {
   "cell_type": "markdown",
   "metadata": {
    "colab_type": "text",
    "id": "a6xOvkYQJICs"
   },
   "source": [
    "<h4>.Variable : Everything start with a variable ,your stories always have it .All objects are variable </h4>\n",
    "<p> variable have two type </p>\n",
    "<ol>\n",
    "<li><p>Constant : Remain unchange during a programm</p></li>\n",
    "<li> <p>Variable: often varies </p></li>\n",
    "</ol>"
   ]
  },
  {
   "cell_type": "code",
   "execution_count": 3,
   "metadata": {
    "colab": {
     "base_uri": "https://localhost:8080/",
     "height": 86
    },
    "colab_type": "code",
    "id": "246Rk1QWm8JD",
    "outputId": "58c0d8d4-52ac-4ee6-e261-7af0bd2d876a"
   },
   "outputs": [
    {
     "name": "stdout",
     "output_type": "stream",
     "text": [
      "24 <class 'int'>\n",
      "24.24 <class 'float'>\n",
      "P <class 'str'>\n",
      "I am pankaj saini <class 'str'>\n"
     ]
    }
   ],
   "source": [
    "number =24\n",
    "float_num= 24.24\n",
    "character = \"P\"\n",
    "string = \"I am pankaj saini\"\n",
    "\n",
    "# single line comment donw starting with hash\n",
    "#this print print value of variable & data type of that variable \n",
    "print(number,type(number))\n",
    "print(float_num,type(float_num))\n",
    "print(character,type(character))\n",
    "print(string,type(string))\n"
   ]
  },
  {
   "cell_type": "markdown",
   "metadata": {
    "colab_type": "text",
    "id": "4sspMOxQKA3r"
   },
   "source": [
    "<h4> On a variable operation can be applied </h4>\n",
    "<p> Operation can be basic Mathematical to engineering Mathematics</p>\n",
    " - information is working object"
   ]
  },
  {
   "cell_type": "code",
   "execution_count": 61,
   "metadata": {
    "colab": {
     "base_uri": "https://localhost:8080/",
     "height": 104
    },
    "colab_type": "code",
    "id": "v7EWR9cWJ_xe",
    "outputId": "e4bbbb96-e336-400c-f36c-8a4e035a9896"
   },
   "outputs": [
    {
     "name": "stdout",
     "output_type": "stream",
     "text": [
      "13\n",
      "-1\n",
      "42\n",
      "0.8571428571428571\n",
      "6\n"
     ]
    }
   ],
   "source": [
    "# Writing basic operations\n",
    "#operation applied on integer \n",
    "a=6\n",
    "b=7\n",
    "print(a+b)\n",
    "print(a-b)\n",
    "print(a*b)\n",
    "print(a/b)\n",
    "print(a%b)"
   ]
  },
  {
   "cell_type": "code",
   "execution_count": 62,
   "metadata": {
    "colab": {
     "base_uri": "https://localhost:8080/",
     "height": 34
    },
    "colab_type": "code",
    "id": "iK1tvjcjKw2X",
    "outputId": "8ebebb9b-2784-48d2-a347-494ddf9b9e22"
   },
   "outputs": [
    {
     "name": "stdout",
     "output_type": "stream",
     "text": [
      "17\n"
     ]
    }
   ],
   "source": [
    "#operation on a string \n",
    "y=len(string)\n",
    "print(y)"
   ]
  },
  {
   "cell_type": "markdown",
   "metadata": {
    "colab_type": "text",
    "id": "CkHppMysK9Bi"
   },
   "source": [
    "<h3> 2.Inputs : Taking inputs from a usr make your programm interactive & provide it life </h3>\n",
    "<p> input device : keyboard(Major) ,Mouse(secondary) for our use </p>\n",
    "- default input string "
   ]
  },
  {
   "cell_type": "code",
   "execution_count": 64,
   "metadata": {
    "colab": {
     "base_uri": "https://localhost:8080/",
     "height": 52
    },
    "colab_type": "code",
    "id": "3gHGfVLjLSh8",
    "outputId": "b5d2da2a-2ff6-4c52-c118-dd83003a70e5"
   },
   "outputs": [
    {
     "name": "stdout",
     "output_type": "stream",
     "text": [
      "Enter a number : 5\n",
      "5 <class 'str'>\n"
     ]
    }
   ],
   "source": [
    "num = input(\"Enter a number : \")\n",
    "print(num ,type(num))"
   ]
  },
  {
   "cell_type": "markdown",
   "metadata": {
    "colab_type": "text",
    "id": "QbDHTGtELm7P"
   },
   "source": [
    "<h4><bold> Caution</bold></h4>\n",
    "<p> by default python take all input to a string </p>\n",
    "<p> Default means : it designed in that way<b> So no moral outrage</b> </p>\n",
    "\n",
    "<p> To get out of this a new concept \" Type casting\" is introduce </p>"
   ]
  },
  {
   "cell_type": "code",
   "execution_count": 65,
   "metadata": {
    "colab": {
     "base_uri": "https://localhost:8080/",
     "height": 52
    },
    "colab_type": "code",
    "id": "FiLvX3UyLmTm",
    "outputId": "6b814255-ffcc-4549-9e56-ef8ae353af2e"
   },
   "outputs": [
    {
     "name": "stdout",
     "output_type": "stream",
     "text": [
      "5 <class 'int'>\n",
      "5 25\n"
     ]
    }
   ],
   "source": [
    "# casting strign to an integer \n",
    "num = int(num)\n",
    "#function can take other functions\n",
    "#num = int(input(\"Enter a number : \"))\n",
    "#changing that's to int let us perform mathematical calculations\n",
    "\n",
    "\n",
    "print(num,type(num))\n",
    "print(num,num**2)"
   ]
  },
  {
   "cell_type": "markdown",
   "metadata": {
    "colab_type": "text",
    "id": "9qELTp3IMksg"
   },
   "source": [
    "<h3> Python Built in Data structure </h3>\n",
    "<p>3.1 List </p>\n",
    "\n",
    "- order collection of data \n",
    "- mutable & allow duplicate\n",
    "-  notation l=[]\n",
    "- character is not a bulit in data structure"
   ]
  },
  {
   "cell_type": "code",
   "execution_count": 81,
   "metadata": {
    "colab": {
     "base_uri": "https://localhost:8080/",
     "height": 173
    },
    "colab_type": "code",
    "id": "xB7TFf1wths8",
    "outputId": "68b7e2bb-084a-4b78-b24f-433ccabd3257"
   },
   "outputs": [
    {
     "name": "stdout",
     "output_type": "stream",
     "text": [
      "list ['PANKAJ', 'SHIVALIK', 'BANSAL', 'MOHIT', 'MUKUL']\n",
      "MOHIT\n",
      "y= ['PANKAJ', 'SHIVALIK', 'BANSAL'] \n",
      "z= ['MOHIT', 'MUKUL']\n",
      "['PANKAJ', 'SHIVALIK', 'BANSAL', 'MOHIT', 'MUKUL', 'smartphones']\n",
      "length of list :  6\n",
      "['Ankesh', 'BANSAL', 'HOSTEL is love ', 'MOHIT', 'MUKUL', 'SHIVALIK']\n",
      "['SHIVALIK', 'MUKUL', 'MOHIT', 'HOSTEL is love ', 'BANSAL', 'Ankesh']\n",
      "l[-1]= MUKUL\n"
     ]
    }
   ],
   "source": [
    "l =[\"PANKAJ\",\"SHIVALIK\",\"BANSAL\",\"MOHIT\",\"MUKUL\"]\n",
    "print(\"list\",l)\n",
    "\n",
    "# operation let us  manipulation | mdoification of objects \n",
    "#1 Accessing a list item | element both refer to same objects \n",
    "x=l[3]\n",
    "print(x)\n",
    "\n",
    "#2 slicing a list \n",
    "#this will start from 0 to 3\n",
    "\n",
    "y=l[:3]\n",
    "\n",
    "# from 3 to last\n",
    "\n",
    "z=l[3:]\n",
    "\n",
    "#In that interval \n",
    "\n",
    "a=l[1:4]\n",
    "print('y=',y, \"\\nz=\",z)\n",
    "\n",
    "#3 appending a list \n",
    "#by default it will append at last of list \n",
    "\n",
    "l.append(\"smartphones\")\n",
    "print(l)\n",
    " \n",
    "# to insert at specfic location  : use bulit in function \n",
    "l.insert(3,\"HOSTEL is love \")\n",
    "\n",
    "#4 modifing a specfic item in a list \n",
    "#if you run twice you can see changes\n",
    "\n",
    "l[0] = \"Ankesh\"\n",
    "\n",
    "#deliting an element \n",
    "\n",
    "l.remove(\"smartphones\")\n",
    " \n",
    "# To know number of items in your list \n",
    "length=len(l)\n",
    "print(\"length of list : \" ,length )\n",
    "\n",
    "#stats operation can be applied on list \n",
    "#sorting item by number or charactre \n",
    "\n",
    "#in ascending order | forward \n",
    "print(sorted(l))\n",
    "\n",
    "# in descending order | reverse | backward \n",
    "print(sorted(l,reverse=True))\n",
    " \n",
    "# printing element from reverse \n",
    "print('l[-1]= %s' %l[-1])"
   ]
  },
  {
   "cell_type": "markdown",
   "metadata": {
    "colab_type": "text",
    "id": "SO5n8vk5SYOg"
   },
   "source": [
    "####3.2 Tuples\n",
    "- Order collection\n",
    "- immutable & allow duplicates\n",
    "- notation tag = ()"
   ]
  },
  {
   "cell_type": "code",
   "execution_count": 86,
   "metadata": {
    "colab": {
     "base_uri": "https://localhost:8080/",
     "height": 69
    },
    "colab_type": "code",
    "id": "ryLxeKHiS3K9",
    "outputId": "8c7139df-9e87-4890-813c-d3b65b352f9b"
   },
   "outputs": [
    {
     "name": "stdout",
     "output_type": "stream",
     "text": [
      "(1, 2, 3, 4, 5)\n",
      "(1, 2, 3, 4, 5)\n",
      "(6, 7, 8)\n"
     ]
    }
   ],
   "source": [
    "tup = (1,2,3,4,5)\n",
    "print(tup)\n",
    "\n",
    "# verification of immutablity of tuple \n",
    "#tup[0] =5 \n",
    "# it will trough an error \n",
    "print(tup)\n",
    "\n",
    "# But entire tuple can be changed \n",
    "tup = (6,7,8)\n",
    "print(tup)"
   ]
  },
  {
   "cell_type": "markdown",
   "metadata": {
    "colab_type": "text",
    "id": "2DQYgHjQVWf-"
   },
   "source": [
    "#### 3.3Set \n",
    "- unorder collection of data\n",
    "- mutable & does not allow duplicates\n",
    "- Notation tag = {}"
   ]
  },
  {
   "cell_type": "code",
   "execution_count": 88,
   "metadata": {
    "colab": {
     "base_uri": "https://localhost:8080/",
     "height": 34
    },
    "colab_type": "code",
    "id": "F8twfdE9VjoF",
    "outputId": "b260f355-c31a-499d-b5eb-af1e97b69576"
   },
   "outputs": [
    {
     "name": "stdout",
     "output_type": "stream",
     "text": [
      "{'Game of Thrones', 'Moeny Heist', 'Mr. Robot', 'Shameless'} <class 'set'>\n"
     ]
    }
   ],
   "source": [
    "tv_Series={\"Game of Thrones\",\"Moeny Heist\",\"Shameless\",\"Mr. Robot\"}\n",
    "print(tv_Series,type(tv_Series))"
   ]
  },
  {
   "cell_type": "code",
   "execution_count": 92,
   "metadata": {
    "colab": {
     "base_uri": "https://localhost:8080/",
     "height": 121
    },
    "colab_type": "code",
    "id": "sOecOMB1WAOo",
    "outputId": "679a950a-f6bd-4eda-8e99-73ea2a887551"
   },
   "outputs": [
    {
     "name": "stdout",
     "output_type": "stream",
     "text": [
      "{34, 35, 565, 23, 77, 46}\n",
      "set()\n",
      "{35, 565, 23}\n",
      "{34, 35, 77, 46, 565, 23}\n",
      "{456, 35, 565, 23}\n",
      "{35, 565, 23}\n"
     ]
    }
   ],
   "source": [
    "#operations on set\n",
    "a = {23,35,565}\n",
    "b = { 34,46,77}\n",
    "\n",
    "#set union\n",
    "print( a | b)\n",
    "\n",
    "# set Intersection\n",
    "print( a & b)\n",
    "\n",
    "# set difference\n",
    "print(a-b)\n",
    "\n",
    "# Symmetric Difference \n",
    "print(a ^ b)\n",
    "\n",
    "# adding an removing set element \n",
    "a.add(456)\n",
    "print(a)\n",
    "\n",
    "# removing\n",
    "a.remove(456)\n",
    "print(a)"
   ]
  },
  {
   "cell_type": "markdown",
   "metadata": {
    "colab_type": "text",
    "id": "lAy2OICLXHCi"
   },
   "source": [
    "#### 3.4 Dictionary : Ooo beautiful dictionary \n",
    "- unorder collection of key value pair\n",
    "- mutable\n",
    "- Notation tag = {key: value}"
   ]
  },
  {
   "cell_type": "code",
   "execution_count": 0,
   "metadata": {
    "colab": {
     "base_uri": "https://localhost:8080/",
     "height": 34
    },
    "colab_type": "code",
    "id": "K68g-QWFxkwq",
    "outputId": "dad4a3a7-64d7-42fb-ae18-e550d3151567"
   },
   "outputs": [
    {
     "data": {
      "text/plain": [
       "{'Mukul': 135, 'Pankaj': 130, 'Pankaj saini': 220, 'shivalik': 'restigated'}"
      ]
     },
     "execution_count": 16,
     "metadata": {
      "tags": []
     },
     "output_type": "execute_result"
    }
   ],
   "source": [
    "# actual forma of a directory \n",
    "dr={\"shivalik\": \"restigated\",\"Pankaj\":130,\"Mukul\":135,\"Pankaj saini\":220}\n",
    "dr "
   ]
  },
  {
   "cell_type": "code",
   "execution_count": 102,
   "metadata": {
    "colab": {
     "base_uri": "https://localhost:8080/",
     "height": 52
    },
    "colab_type": "code",
    "id": "JCI457YgasGk",
    "outputId": "b39dc261-28b0-4ee4-d4eb-b28534201650"
   },
   "outputs": [
    {
     "name": "stdout",
     "output_type": "stream",
     "text": [
      "restigated\n",
      "{'shivalik': 305, 'Pankaj': 130, 'Mukul': 135, 'Pankaj saini': 220}\n"
     ]
    }
   ],
   "source": [
    "#operation on dictionary  \n",
    "\n",
    "#accessing a value by key\n",
    "print(dr[\"shivalik\"])\n",
    "\n",
    "#accessing a key by value\n",
    "#print(dr(\"restigated\"))\n",
    "\n",
    "#Adding new entry\n",
    "dr[\"tech\"] = \" sports\"\n",
    "print(dr)\n",
    "\n",
    "#updating already exist entry\n",
    "dr[\"shivalik\"]=305\n",
    "\n",
    "#deleting an item in dir\n",
    "del dr[\"tech\"]\n",
    "print(dr)\n",
    "\n"
   ]
  },
  {
   "cell_type": "markdown",
   "metadata": {
    "colab_type": "text",
    "id": "qyhT1ncfewIP"
   },
   "source": [
    "#### 3.5 Strings\n",
    "- sequence of a character\n",
    "- No mathematical manipulation \n",
    "- immutable \n",
    "- Notation : python allow you both \"string \",'string'"
   ]
  },
  {
   "cell_type": "code",
   "execution_count": 104,
   "metadata": {
    "colab": {
     "base_uri": "https://localhost:8080/",
     "height": 52
    },
    "colab_type": "code",
    "id": "WmkaH4VEfgRB",
    "outputId": "7e33195c-610f-4ed8-e769-83fa0eb86e13"
   },
   "outputs": [
    {
     "name": "stdout",
     "output_type": "stream",
     "text": [
      " bulati nahi per jana ka ha  \n",
      " apna time ayga\n"
     ]
    }
   ],
   "source": [
    "string_1 = \" bulati nahi per jana ka ha \"\n",
    "string_2 = 'apna time ayga'\n",
    "print(string_1,'\\n',string_2)"
   ]
  },
  {
   "cell_type": "code",
   "execution_count": 106,
   "metadata": {
    "colab": {
     "base_uri": "https://localhost:8080/",
     "height": 121
    },
    "colab_type": "code",
    "id": "YEu0d1phfzBF",
    "outputId": "287f87fc-67bb-4e3d-f928-58de98cc96df"
   },
   "outputs": [
    {
     "name": "stdout",
     "output_type": "stream",
     "text": [
      " bulati nahi per jana ka ha \n",
      "APNA TIME AYGA\n",
      "28\n",
      "False\n",
      "False\n",
      "apna t\n"
     ]
    }
   ],
   "source": [
    "# string operations \n",
    " #making lower case \n",
    " print(string_1.lower())\n",
    "\n",
    " #upper case \n",
    " print(string_2.upper())\n",
    "\n",
    " #length of string \n",
    " print(len(string_1))\n",
    "\n",
    " # conditions on string\n",
    " print(string_1.startswith(\"A\"))\n",
    " print(string_2.endswith(\"m\"))\n",
    "\n",
    "\n"
   ]
  },
  {
   "cell_type": "code",
   "execution_count": 139,
   "metadata": {
    "colab": {
     "base_uri": "https://localhost:8080/",
     "height": 124
    },
    "colab_type": "code",
    "id": "iTE5Rh6Wg5R1",
    "outputId": "09ee7972-acb0-4852-f43f-76815d4d6c33"
   },
   "outputs": [
    {
     "name": "stdout",
     "output_type": "stream",
     "text": [
      "apna t\n",
      "['I', 'am', 'pankaj', 'saini']\n",
      "[' ', 'b', 'u', 'l', 'a', 't', 'i', ' ', 'n', 'a', 'h', 'i', ' ', 'p', 'e', 'r', ' ', 'j', 'a', 'n', 'a', ' ', 'k', 'a', ' ', 'h', 'a', ' ']\n",
      " bulati nahi per jana ka ha apna time ayga\n",
      " bulati nahi per jana ka ha  bulati nahi per jana ka ha  bulati nahi per jana ka ha \n"
     ]
    }
   ],
   "source": [
    " #slicing the string\n",
    " print(string_2[0:6])\n",
    "\n",
    " #splitting string in word group\n",
    " words = string.split()\n",
    " print(words)\n",
    "\n",
    " #spliting into characters\n",
    " char=list(string_1)\n",
    " print(char)\n",
    "\n",
    " #cocatentation \n",
    " sc=string_1 + string_2\n",
    " print(sc)\n",
    "\n",
    " # repetation\n",
    " sr = string_1*3\n",
    " print(sr)\n",
    "\n",
    " #reversing a string \n",
    " # show in the loop below \n"
   ]
  },
  {
   "cell_type": "code",
   "execution_count": 151,
   "metadata": {
    "colab": {
     "base_uri": "https://localhost:8080/",
     "height": 121
    },
    "colab_type": "code",
    "id": "4ql-ptxwjTfl",
    "outputId": "95c35697-f2cd-4a43-c7de-c233d16a408b"
   },
   "outputs": [
    {
     "name": "stdout",
     "output_type": "stream",
     "text": [
      "0\n",
      "1\n",
      "2\n",
      "3\n",
      "4\n",
      "Voila ! it's a palindrom \n"
     ]
    }
   ],
   "source": [
    "nbr = [1,2,3,2,1]\n",
    "rev_words=nbr[::-1]\n",
    "i=0\n",
    "while i<int((len(nbr))):\n",
    "  print(i)\n",
    "  if nbr[i] != rev_words[i]:\n",
    "     print (\"not a palindrom\")\n",
    "     break \n",
    "    \n",
    "  i=i+1\n",
    "\n",
    "print(\"Voila ! it's a palindrom \")\n",
    "\n"
   ]
  },
  {
   "cell_type": "code",
   "execution_count": 0,
   "metadata": {
    "colab": {},
    "colab_type": "code",
    "id": "OG4eilRRm_L6"
   },
   "outputs": [],
   "source": []
  },
  {
   "cell_type": "code",
   "execution_count": 149,
   "metadata": {
    "colab": {
     "base_uri": "https://localhost:8080/",
     "height": 34
    },
    "colab_type": "code",
    "id": "LwFYWul1nyK0",
    "outputId": "30436656-b584-40b7-dc04-58b8256d804c"
   },
   "outputs": [
    {
     "data": {
      "text/plain": [
       "['saini', 'pankaj', 'am', 'I']"
      ]
     },
     "execution_count": 149,
     "metadata": {
      "tags": []
     },
     "output_type": "execute_result"
    }
   ],
   "source": [
    "rev_words"
   ]
  }
 ],
 "metadata": {
  "colab": {
   "collapsed_sections": [],
   "name": "warm_up_python.ipynb",
   "provenance": []
  },
  "kernelspec": {
   "display_name": "Python 3",
   "language": "python",
   "name": "python3"
  },
  "language_info": {
   "codemirror_mode": {
    "name": "ipython",
    "version": 3
   },
   "file_extension": ".py",
   "mimetype": "text/x-python",
   "name": "python",
   "nbconvert_exporter": "python",
   "pygments_lexer": "ipython3",
   "version": "3.6.9"
  }
 },
 "nbformat": 4,
 "nbformat_minor": 1
}
